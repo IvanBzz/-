{
 "cells": [
  {
   "cell_type": "code",
   "execution_count": 1,
   "id": "e8fd08a6",
   "metadata": {},
   "outputs": [
    {
     "name": "stdout",
     "output_type": "stream",
     "text": [
      "3\n",
      "3\n",
      "2\n"
     ]
    }
   ],
   "source": [
    "class Stack:\n",
    "    def __init__(self, max_size):\n",
    "        self.max_size = max_size\n",
    "        self.stack = []\n",
    "\n",
    "    def is_empty(self):\n",
    "        return len(self.stack) == 0\n",
    "\n",
    "    def push(self, element):\n",
    "        if len(self.stack) >= self.max_size:\n",
    "            raise ValueError(\"Стек переполнен\")\n",
    "        self.stack.append(element)\n",
    "\n",
    "    def pop(self):\n",
    "        if self.is_empty():\n",
    "            raise ValueError(\"Стек пуст\")\n",
    "        return self.stack.pop()\n",
    "\n",
    "    def top(self):\n",
    "        if self.is_empty():\n",
    "            raise ValueError(\"Стек пуст\")\n",
    "        return self.stack[-1]\n",
    "\n",
    "    def __len__(self):\n",
    "        return len(self.stack)\n",
    "stack = Stack(5)\n",
    "stack.push(1)\n",
    "stack.push(2)\n",
    "stack.push(3)\n",
    "\n",
    "print(stack.top())    # Выводит: 3\n",
    "print(stack.pop())    # Выводит: 3\n",
    "\n",
    "print(len(stack))     # Выводит: 2\n",
    "\n",
    "stack.push(4)\n",
    "stack.push(5)\n",
    "stack.push(6)         # Возникнет ошибка, так как стек уже заполнен"
   ]
  },
  {
   "cell_type": "code",
   "execution_count": null,
   "id": "820fec45",
   "metadata": {},
   "outputs": [],
   "source": []
  }
 ],
 "metadata": {
  "kernelspec": {
   "display_name": "Python 3 (ipykernel)",
   "language": "python",
   "name": "python3"
  },
  "language_info": {
   "codemirror_mode": {
    "name": "ipython",
    "version": 3
   },
   "file_extension": ".py",
   "mimetype": "text/x-python",
   "name": "python",
   "nbconvert_exporter": "python",
   "pygments_lexer": "ipython3",
   "version": "3.11.4"
  }
 },
 "nbformat": 4,
 "nbformat_minor": 5
}

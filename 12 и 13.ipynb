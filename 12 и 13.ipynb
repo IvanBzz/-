{
 "cells": [
  {
   "cell_type": "code",
   "execution_count": 7,
   "id": "56dcc8a2",
   "metadata": {},
   "outputs": [
    {
     "name": "stdout",
     "output_type": "stream",
     "text": [
      "None None\n"
     ]
    }
   ],
   "source": [
    "def def(list):\n",
    " min_value = min(list)\n",
    "\n",
    " #\n",
    " min_index = list.index(min_value)\n",
    "\n",
    " for i in range(len(list)):\n",
    "   if list[i] <= min_value and i != min_index:\n",
    "     return list[i], i\n",
    "\n",
    "\n",
    " return None, None\n",
    "\n",
    "\n",
    "# Пример использования\n",
    "list = [1,1, 2, 34, 4, 57, 6, 10, 8, 4,0, 10]\n",
    "value, index = find_value_with_one_less_value(list)\n",
    "print(value, index)"
   ]
  },
  {
   "cell_type": "code",
   "execution_count": null,
   "id": "c8916b9e",
   "metadata": {},
   "outputs": [],
   "source": []
  }
 ],
 "metadata": {
  "kernelspec": {
   "display_name": "Python 3 (ipykernel)",
   "language": "python",
   "name": "python3"
  },
  "language_info": {
   "codemirror_mode": {
    "name": "ipython",
    "version": 3
   },
   "file_extension": ".py",
   "mimetype": "text/x-python",
   "name": "python",
   "nbconvert_exporter": "python",
   "pygments_lexer": "ipython3",
   "version": "3.11.4"
  }
 },
 "nbformat": 4,
 "nbformat_minor": 5
}

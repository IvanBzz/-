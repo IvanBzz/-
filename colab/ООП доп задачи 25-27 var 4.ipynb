{
 "cells": [
  {
   "cell_type": "markdown",
   "id": "16fb9a55",
   "metadata": {},
   "source": [
    "25)  Класс – строка символов. Методы класса – расчет длины строки и коли-чества слов.\n",
    "Поля класса – строка, длина строки, кол–во слов в строке."
   ]
  },
  {
   "cell_type": "code",
   "execution_count": 52,
   "id": "0b08fc01",
   "metadata": {},
   "outputs": [
    {
     "name": "stdout",
     "output_type": "stream",
     "text": [
      "ромыовла олпы оллавп \n",
      "Длина строки: 21, Кол-во слов: 3\n"
     ]
    }
   ],
   "source": [
    "class Stroka:\n",
    "    def __init__(self,stroka):\n",
    "        self.stroka=stroka\n",
    "        self.length=len(self.stroka)\n",
    "        self.word_count=len(self.stroka.split())\n",
    "    def dlina(self):\n",
    "        return self.length\n",
    "    def slova(self):\n",
    "        return self.word_count\n",
    "s=Stroka(input())\n",
    "print(f'Длина строки: {s.dlina()}, Кол-во слов: {s.slova()}')"
   ]
  },
  {
   "cell_type": "markdown",
   "id": "1c031755",
   "metadata": {},
   "source": [
    "26) Опишите класс Money, заданный двумя полями, которые определяют номинал купюры и количество купюр. Включите в описание класса методы, позволяющие вывести номинал и количество купюр, определить, хватит ли денежных средств на покупку товара на сумму рублей, и метод определения, сколько штук товара стоимости рублей можно купить на имеющиеся денежные средства, а также свойство, позволяющее рассчитать сумму денег."
   ]
  },
  {
   "cell_type": "code",
   "execution_count": 25,
   "id": "144f703f",
   "metadata": {},
   "outputs": [
    {
     "name": "stdout",
     "output_type": "stream",
     "text": [
      "500\n",
      "50\n",
      "50 купюр номиналом 500 рублей\n",
      "Всего имеется 25000 рублей \n",
      "Yes\n",
      "No\n",
      "На 25000 рублей можно купить 16 единиц товара\n"
     ]
    }
   ],
   "source": [
    "class Money:\n",
    "    def __init__(self,nominal,kolvo):\n",
    "        self.nominal=nominal\n",
    "        self.kolvo=kolvo\n",
    "    def display_money(self):\n",
    "        print(f'{self.kolvo} купюр номиналом {self.nominal} рублей')\n",
    "    def nominal(self):\n",
    "        return self.nominal\n",
    "    def kolvo(self):\n",
    "        return self.kolvo\n",
    "    def can_buy(self,cost):\n",
    "        if (self.nominal*self.kolvo)>=cost:\n",
    "            return 'Yes'\n",
    "        else:\n",
    "            return 'No'\n",
    "    def rate_product(self,cost):\n",
    "        return (self.nominal*self.kolvo)//cost\n",
    "    def amount(self):\n",
    "        return self.nominal*self.kolvo\n",
    "money=Money(int(input()),int(input()))\n",
    "money.display_money()\n",
    "cost1=1500\n",
    "cost2=50000\n",
    "print(f'Всего имеется {money.amount()} рублей ')\n",
    "print(money.can_buy(cost1))\n",
    "print(money.can_buy(cost2))\n",
    "print(f'На {money.amount()} рублей можно купить {money.rate_product(cost1)} единиц товара')"
   ]
  },
  {
   "cell_type": "markdown",
   "id": "72ebc996",
   "metadata": {},
   "source": [
    "27) Создайте класс ТОВАР с методами, позволяющими вывести на экран информацию о товаре, а также определить, может ли приобрести товар покупатель, имеющий заданную сумму денег. Создайте дочерние классы ПРОДУКТ (название, цена, дата производства, срок годности), ПАРТИЯ (название, цена за штуку, количество штук, дата производства, срок годности), ТЕЛЕФОН (название, цена) со своими методами вывода информации на экран и определения соответствия заданной цене. Создайте список из  n  товаров, выведите полную информацию из базы на экран, а также организуйте поиск товара, который может приобрести покупатель, имеющий заданную сумму денег."
   ]
  },
  {
   "cell_type": "code",
   "execution_count": 51,
   "id": "01aab727",
   "metadata": {},
   "outputs": [
    {
     "name": "stdout",
     "output_type": "stream",
     "text": [
      "Name: Milk\n",
      "Price: 100\n",
      "Production Date: 01.03.2024\n",
      "Expiry Date: 01.04.2024\n",
      "Name: Apples\n",
      "Price: 20\n",
      "Production Date: N/A\n",
      "Expiry Date: N/A\n",
      "Price per unit: 20\n",
      "Quantity: 10\n",
      "Name: iPhone 13\n",
      "Price: 100000\n",
      "Production Date: N/A\n",
      "Expiry Date: N/A\n",
      "\n",
      "Name: Milk\n",
      "Price: 100\n",
      "Production Date: 01.03.2024\n",
      "Expiry Date: 01.04.2024\n",
      "Name: Apples\n",
      "Price: 20\n",
      "Production Date: N/A\n",
      "Expiry Date: N/A\n",
      "Price per unit: 20\n",
      "Quantity: 10\n"
     ]
    }
   ],
   "source": [
    "class Tovar:\n",
    "    def __init__(self, name, price):\n",
    "        self.name = name\n",
    "        self.price = price\n",
    "\n",
    "    def info(self):\n",
    "        print(f\"Name: {self.name}\\nPrice: {self.price}\")\n",
    "\n",
    "    def can_buy(self, money):\n",
    "        return money >= self.price\n",
    "    \n",
    "\n",
    "    def get_price(self):\n",
    "        return self.price\n",
    "\n",
    "\n",
    "class Product(Tovar):\n",
    "    def __init__(self, name, price, production_date, expiration_date):\n",
    "        super().__init__(name, price)\n",
    "        self.production_date = production_date\n",
    "        self.expiration_date = expiration_date\n",
    "\n",
    "    def info(self):\n",
    "        super().info()\n",
    "        print(f\"Production Date: {self.production_date}\\nExpiry Date: {self.expiration_date}\")\n",
    "\n",
    "\n",
    "class Shipment(Product):\n",
    "    def __init__(self, name, price_per_piece, kolvo):\n",
    "        super().__init__(name, price_per_piece, \"N/A\", \"N/A\")\n",
    "        self.kolvo = kolvo\n",
    "        self.price_per_piece = price_per_piece\n",
    "\n",
    "    def info(self):\n",
    "        super().info()\n",
    "        print(f\"Price per unit: {self.price_per_piece}\\nQuantity: {self.kolvo}\")\n",
    "\n",
    "\n",
    "class Telephone(Product):\n",
    "    def __init__(self, name, price):\n",
    "        super().__init__(name, price, \"N/A\", \"N/A\")\n",
    "\n",
    "    def info(self):\n",
    "        super().info()\n",
    "\n",
    "\n",
    "n = 3\n",
    "\n",
    "products = [Product(\"Milk\", 100, \"01.03.2024\", \"01.04.2024\"),\n",
    "            Shipment(\"Apples\", 20, 10),\n",
    "            Telephone(\"iPhone 13\", 100000)]\n",
    "money_amount=150\n",
    "for p in products:\n",
    "    p.info()\n",
    "print()\n",
    "for product in products:\n",
    "    if product.can_buy(money_amount):\n",
    "        product.info()"
   ]
  }
 ],
 "metadata": {
  "kernelspec": {
   "display_name": "Python 3 (ipykernel)",
   "language": "python",
   "name": "python3"
  },
  "language_info": {
   "codemirror_mode": {
    "name": "ipython",
    "version": 3
   },
   "file_extension": ".py",
   "mimetype": "text/x-python",
   "name": "python",
   "nbconvert_exporter": "python",
   "pygments_lexer": "ipython3",
   "version": "3.11.4"
  }
 },
 "nbformat": 4,
 "nbformat_minor": 5
}

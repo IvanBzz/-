{
 "cells": [
  {
   "cell_type": "markdown",
   "metadata": {},
   "source": [
    "### Контрольная работа № 1.\n",
    "### Вариант 1.\n",
    "#### Студент Безуглов Иван группа ИД23-2"
   ]
  },
  {
   "cell_type": "markdown",
   "metadata": {},
   "source": [
    "1. Создайте класс Length (Длина), имеющий свойства\n",
    "\n",
    "• value (значение),\n",
    "\n",
    "• unit (единица измерения).\n",
    "\n",
    "При изменении единицы измерения значение должно соответственно меняться. Например, при переходе от сантиметров к метрам значение должно уменьшаться в 100 раз. Допустимые значения свойства unit: ‘см’, ‘м’, ‘км’. Организуйте эту проверку. Продемонстрируйте работу с классом."
   ]
  },
  {
   "cell_type": "code",
   "execution_count": 26,
   "metadata": {},
   "outputs": [
    {
     "name": "stdout",
     "output_type": "stream",
     "text": [
      "Значение: 1000 м\n",
      "Значение: 1.0 км\n",
      "Значение: 100000.0 см\n"
     ]
    }
   ],
   "source": [
    "class Length:\n",
    "    def __init__(self, value, unit):\n",
    "        self.value = value\n",
    "        self._unit = unit\n",
    "\n",
    "    @property\n",
    "    def unit(self):\n",
    "        return self._unit\n",
    "\n",
    "    @unit.setter\n",
    "    def unit(self, new_unit):\n",
    "        if new_unit not in ['см', 'м', 'км']:\n",
    "            raise ValueError(\"Недопустимая единица измерения. Допустимые значения: 'см', 'м', 'км'\")\n",
    "        if self._unit == 'см' and new_unit == 'м':\n",
    "            self.value /= 100\n",
    "        elif self._unit == 'см' and new_unit == 'км':\n",
    "            self.value /= 100000\n",
    "        elif self._unit == 'м' and new_unit == 'см':\n",
    "            self.value *= 100\n",
    "        elif self._unit == 'м' and new_unit == 'км':\n",
    "            self.value /= 1000\n",
    "        elif self._unit == 'км' and new_unit == 'см':\n",
    "            self.value *= 100000\n",
    "        elif self._unit == 'км' and new_unit == 'м':\n",
    "            self.value *= 1000\n",
    "        self._unit = new_unit\n",
    "\n",
    "# Пример использования класса\n",
    "length = Length(1000, 'м')\n",
    "print(f\"Значение: {length.value} {length.unit}\")\n",
    "length.unit = 'км'\n",
    "print(f\"Значение: {length.value} {length.unit}\")\n",
    "length.unit = 'см'\n",
    "print(f\"Значение: {length.value} {length.unit}\")"
   ]
  },
  {
   "cell_type": "markdown",
   "metadata": {},
   "source": [
    "2. Создайте класс Ведомость, имеющий\n",
    "атрибут класса:\n",
    "\n",
    "• список_дисциплин (значением является список с названиями дисциплин);\n",
    "\n",
    "свойства:\n",
    "\n",
    "• дисциплина (при задании значения проверять наличие дисциплины в атрибуте список_дисциплин),\n",
    "\n",
    "• группа;\n",
    "\n",
    "методы:\n",
    "\n",
    "• put – добавляет в ведомость информацию об оценке студента (фамилия, оценка – параметры метода). Для хранения данных внутри класса используйте словарь, в котором ключом является фамилия студента. Возможные оценки – «отлично», «хорошо», «удовл.», «неудовл.», «н/я»;\n",
    "\n",
    "• get – возвращает оценку, полученную студентом (фамилия студента – параметр метода);\n",
    "\n",
    "• change – изменяет оценку, полученную студентом (фамилия студента и новая оценка – параметры метода);\n",
    "\n",
    "• del – удаляет информацию о студенте из ведомости (фамилия студента – параметр метода);\n",
    "\n",
    "• result – возвращает кортеж из 5 чисел (количество каждого вида оценок в ведомости);\n",
    "\n",
    "• __init__ – конструктор;\n",
    "\n",
    "• __str__ – возвращает строку, содержащую заголовки (название экзамена, группа) и результаты экзамена в виде таблицы;\n",
    "\n",
    "• count – возвращает количество студентов в ведомости;\n",
    "\n",
    "• names – возвращает список фамилий, имеющихся в ведомости.\n",
    "\n",
    "Продемонстрируйте работу с классом. \n"
   ]
  },
  {
   "cell_type": "code",
   "execution_count": 27,
   "metadata": {},
   "outputs": [
    {
     "name": "stderr",
     "output_type": "stream",
     "text": [
      "Exception ignored in: <function Vedomost.__del__ at 0x000001A325598400>\n",
      "Traceback (most recent call last):\n",
      "  File \"C:\\Users\\haund\\AppData\\Local\\Temp\\ipykernel_26916\\1002011044.py\", line 51, in <module>\n",
      "TypeError: Vedomost.__del__() missing 1 required positional argument: 'lastname'\n"
     ]
    },
    {
     "name": "stdout",
     "output_type": "stream",
     "text": [
      "Количество студентов в ведомости: 2\n",
      "Фамилии студентов в ведомости: ['Безуглов', 'Брагинец']\n",
      "Фамилии студентов в ведомости: ['Безуглов']\n"
     ]
    }
   ],
   "source": [
    "# Решение 2.\n",
    "class Vedomost:\n",
    "    spisok=['math','aisd','tod']\n",
    "    def __init__(self,discipline,group):\n",
    "        self.discipline=discipline\n",
    "        self.group=group\n",
    "        self.marks={}\n",
    "    @property\n",
    "    def discipline(self):\n",
    "        return self.discipline\n",
    "    @discipline.setter\n",
    "    def discipline(self,value):\n",
    "        if value not in Vedomost.spisok:\n",
    "            raise ValueError(\"Not in the list\")\n",
    "        self._discipline = value\n",
    "\n",
    "    def put(self, lastname, mark):\n",
    "        self.marks[lastname] = mark\n",
    "\n",
    "    def get(self, lastname):\n",
    "        return self.marks.get(lastname, \"Студент не найден\")\n",
    "\n",
    "    def change(self, lastname, new_mark):\n",
    "        if lastname in self.marks:\n",
    "            self.mark[lastname] = new_mark\n",
    "        else:\n",
    "            print(\"Студент не найден в ведомости\")\n",
    "\n",
    "    def __del__(self, lastname):\n",
    "        del self.marks[lastname]\n",
    "\n",
    "    def result(self):\n",
    "        great = self.marks.values().count('отлично')\n",
    "        well_done = self.marsk.values().count('хорошо')\n",
    "        avg = self.marks.values().count('удовл.')\n",
    "        bad = self.marks.values().count('неудовл.')\n",
    "        n_a = self.marks.values().count('н/я')\n",
    "        return (great,well_done,avg,bad,n_a)\n",
    "\n",
    "    def __str__(self):\n",
    "        results = \"\\n\".join([f\"{key}: {value}\" for key, value in self.marks.items()])\n",
    "        return f\"Дисциплина: {self.discipline}\\nГруппа: {self.group}\\n{results}\"\n",
    "\n",
    "    def count(self):\n",
    "        return len(self.marks)\n",
    "\n",
    "    def names(self):\n",
    "        return list(self.marks.keys())\n",
    "\n",
    "# Пример использования класса\n",
    "vedomost = Vedomost('aisd', 'ИД23-2')\n",
    "vedomost.put('Безуглов', 'отлично')\n",
    "vedomost.put('Брагинец', 'хорошо')\n",
    "print(\"Количество студентов в ведомости:\", vedomost.count())\n",
    "print(\"Фамилии студентов в ведомости:\", vedomost.names())\n",
    "vedomost.__del__('Брагинец')\n",
    "print(\"Фамилии студентов в ведомости:\", vedomost.names())"
   ]
  },
  {
   "cell_type": "markdown",
   "metadata": {},
   "source": [
    "3. Создайте класс Заказ(Order), у которого есть свойства код_товара(code), цена(price), количество(count) и методы __init__ и __str__.\n",
    "\n",
    "Создайте 2 класса-потомка: Опт(Opt) и Розница(Retail).\n",
    "В этих классах создайте методы __init__, __str__.и сумма_заказа(summa), позволяющий узнать стоимость заказа.\n",
    "Для опта стоимость единицы товара составляет 95% от цены, а при покупке более 500 штук – 90% цены.\n",
    "В розницу стоимость единицы товара составляет 100% цены. Стоимость заказа равна произведению цены на количество. \n",
    "\n",
    "Продемонстрируйте работу с классами, создав необходимые объекты и обратившись к их свойствам и методам\n"
   ]
  },
  {
   "cell_type": "code",
   "execution_count": 28,
   "metadata": {},
   "outputs": [
    {
     "name": "stdout",
     "output_type": "stream",
     "text": [
      "Opt Order:\n",
      "Code: A001\n",
      "Price: 100\n",
      "Count: 600\n",
      "Total Price: 54000.0\n",
      "\n",
      "Retail Order:\n",
      "Code: B002\n",
      "Price: 150\n",
      "Count: 100\n",
      "Total Price: 15000\n"
     ]
    }
   ],
   "source": [
    "# Решение 3.\n",
    "class Order:\n",
    "    def __init__(self, code, price, count):\n",
    "        self.code = code\n",
    "        self.price = price\n",
    "        self.count = count\n",
    "\n",
    "    def __str__(self):\n",
    "        return f\"Code: {self.code}\\nPrice: {self.price}\\nCount: {self.count}\"\n",
    "\n",
    "class Opt(Order):\n",
    "    def __init__(self, code, price, count):\n",
    "        super().__init__(code, price, count)\n",
    "\n",
    "    def summa(self):\n",
    "        if self.count > 500:\n",
    "            return 0.9 * self.price * self.count\n",
    "        else:\n",
    "            return 0.95 * self.price * self.count\n",
    "\n",
    "class Retail(Order):\n",
    "    def __init__(self, code, price, count):\n",
    "        super().__init__(code, price, count)\n",
    "\n",
    "    def summa(self):\n",
    "        return self.price * self.count\n",
    "\n",
    "# Пример использования\n",
    "opt_order = Opt(\"A001\", 100, 600)\n",
    "retail_order = Retail(\"B002\", 150, 100)\n",
    "\n",
    "print(\"Opt Order:\")\n",
    "print(opt_order)\n",
    "print(\"Total Price:\", opt_order.summa())\n",
    "\n",
    "print(\"\\nRetail Order:\")\n",
    "print(retail_order)\n",
    "print(\"Total Price:\", retail_order.summa())"
   ]
  },
  {
   "cell_type": "markdown",
   "metadata": {},
   "source": [
    "4. Написать функцию my_func_1(lst), которая переворачивает список вложенных списков с произвольным уровнем вложенности.\n",
    "Любой элемент, не являющийся списком, не должен быть изменен.\n",
    "\n",
    "Примеры, демонстрирующие ожидаемое поведение функции:\n",
    "\n",
    "assert my_func_1(42) == 42\n",
    "\n",
    "assert my_func_1([]) == []\n",
    "\n",
    "assert my_func_1([1, 2]) == [2, 1]\n",
    "\n",
    "assert my_func_1((1, 2)) == (1, 2)\n",
    "\n",
    "assert my_func_1([[1, 2], [3, [4, 5]], 6]) == [6, [[5, 4], 3], [2, 1]]\n",
    "\n",
    "assert my_func_1(['123', '456', '789', {10: [11, 12], 13: 14}, (15, 16)]) == [(15, 16), {10: [11, 12], 13: 14}, '789', '456', '123']\n",
    "\n",
    "assert my_func_1([[[[[1, 2]]]]]) == [[[[[2, 1]]]]]"
   ]
  },
  {
   "cell_type": "code",
   "execution_count": 29,
   "metadata": {},
   "outputs": [
    {
     "name": "stdout",
     "output_type": "stream",
     "text": [
      "True\n",
      "True\n",
      "True\n",
      "True\n",
      "True\n",
      "True\n",
      "True\n"
     ]
    }
   ],
   "source": [
    "# Решение 4.\n",
    "def my_func_1(lst):\n",
    "    if not isinstance(lst, list):\n",
    "        return lst\n",
    "    return [my_func_1(item) for item in reversed(lst)]\n",
    "\n",
    "# Проверка\n",
    "print( my_func_1(42) == 42)\n",
    "print( my_func_1([]) == [])\n",
    "print( my_func_1([1, 2]) == [2, 1])\n",
    "print( my_func_1((1, 2)) == (1, 2))\n",
    "print( my_func_1([[1, 2], [3, [4, 5]], 6]) == [6, [[5, 4], 3], [2, 1]])\n",
    "print( my_func_1(['123', '456', '789', {10: [11, 12], 13: 14}, (15, 16)]) == [(15, 16), {10: [11, 12], 13: 14}, '789', '456', '123'])\n",
    "print( my_func_1([[[[[1, 2]]]]]) == [[[[[2, 1]]]]])\n"
   ]
  },
  {
   "cell_type": "markdown",
   "metadata": {},
   "source": [
    "5.При помощи механизма map/filter/reduce возвести в квадрат числа от 1 до 100, и рассчитать их сумму, не включая в сумму числа, кратные 9. Написать реализацию в одну строку."
   ]
  },
  {
   "cell_type": "code",
   "execution_count": 25,
   "metadata": {},
   "outputs": [
    {
     "data": {
      "text/plain": [
       "225589"
      ]
     },
     "execution_count": 25,
     "metadata": {},
     "output_type": "execute_result"
    }
   ],
   "source": [
    "# Решение 5.\n",
    "from functools import*\n",
    "reduce(lambda x, y: x + y, filter(lambda x: x % 9 != 0, map(lambda x: x**2, range(1, 101))))"
   ]
  },
  {
   "cell_type": "markdown",
   "metadata": {},
   "source": [
    "6.Написать декоратор с параметром my_decorator(n). Декоратор превращает функцию, возвращающую поддерживающий итерации объект (далее \"последовательность\"), в функцию-генератор. Если декорируемая функция возвращает что-то другое, а не последовательность, то декоратор должен вернуть этот результат вызова функции без изменений.\n",
    "\n",
    "Проверку объекта можно организовать при помощи условия import collections if isinstance(item, collections.Iterable)\n",
    "\n",
    "Параметром декоратора может быть целое положительное число n, тогда получившаяся функция-декоратор должна генерировать по одному значению из последовательности, повторенной n раз. Также параметр может принимать строковое значение 'inf', тогда функция-декоратор генерирует по одному значению из последовательности, повторенной бесконечное число раз (зацикливает генерирование результата).\n",
    "\n",
    "Подсказка: сначала реализовать случай со значением аргумента 'inf', а затем модифицировать для целочисленного значения аргумента."
   ]
  },
  {
   "cell_type": "code",
   "execution_count": null,
   "metadata": {},
   "outputs": [],
   "source": [
    "# Решение 6.\n"
   ]
  }
 ],
 "metadata": {
  "kernelspec": {
   "display_name": "Python 3 (ipykernel)",
   "language": "python",
   "name": "python3"
  },
  "language_info": {
   "codemirror_mode": {
    "name": "ipython",
    "version": 3
   },
   "file_extension": ".py",
   "mimetype": "text/x-python",
   "name": "python",
   "nbconvert_exporter": "python",
   "pygments_lexer": "ipython3",
   "version": "3.11.4"
  }
 },
 "nbformat": 4,
 "nbformat_minor": 4
}

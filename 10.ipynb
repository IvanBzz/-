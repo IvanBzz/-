{
 "cells": [
  {
   "cell_type": "code",
   "execution_count": 10,
   "id": "52d50ea4",
   "metadata": {
    "scrolled": true
   },
   "outputs": [
    {
     "name": "stdout",
     "output_type": "stream",
     "text": [
      "Введите строку один два три четыре пять\n",
      "Введите длину сдвига 2\n",
      "три четыре пять один два\n"
     ]
    }
   ],
   "source": [
    "def cyclic_shift(words, n):\n",
    "   words = words.split()\n",
    "   n = n % len(words)\n",
    "   return ' '.join(words[n:] + words[:n])\n",
    "stroka=input('Введите строку ')\n",
    "n=int(input('Введите длину сдвига '))\n",
    "print(cyclic_shift(stroka, n))"
   ]
  },
  {
   "cell_type": "code",
   "execution_count": null,
   "id": "39959921",
   "metadata": {},
   "outputs": [],
   "source": []
  },
  {
   "cell_type": "code",
   "execution_count": null,
   "id": "8fc7b9fe",
   "metadata": {},
   "outputs": [],
   "source": []
  }
 ],
 "metadata": {
  "kernelspec": {
   "display_name": "Python 3 (ipykernel)",
   "language": "python",
   "name": "python3"
  },
  "language_info": {
   "codemirror_mode": {
    "name": "ipython",
    "version": 3
   },
   "file_extension": ".py",
   "mimetype": "text/x-python",
   "name": "python",
   "nbconvert_exporter": "python",
   "pygments_lexer": "ipython3",
   "version": "3.11.4"
  }
 },
 "nbformat": 4,
 "nbformat_minor": 5
}

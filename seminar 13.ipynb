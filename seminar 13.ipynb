{
 "cells": [
  {
   "cell_type": "code",
   "execution_count": 1,
   "id": "8b0ab096",
   "metadata": {},
   "outputs": [
    {
     "name": "stdout",
     "output_type": "stream",
     "text": [
      "Динамический массив ['a', 'b', 'c']\n",
      "Элемент по индексу: c\n",
      "Массив с новым элементом: Динамический массив ['a', 'sus', 'c']\n",
      "Динамический массив ['sus', 'c']\n"
     ]
    }
   ],
   "source": [
    "#1.1\n",
    "class DynamicArray:\n",
    "    def __init__(self):\n",
    "        self._elements=[]\n",
    "    def appenda(self,e):\n",
    "        self._elements.append(e)\n",
    "    def get_element(self,index):\n",
    "        if 0<=index<len(self._elements):\n",
    "            return self._elements[index]\n",
    "        else:\n",
    "            raise IndexError('Index out of range!')\n",
    "    def set_element(self,index,new_value):\n",
    "        if 0<=index<len(self._elements):\n",
    "            self._elements[index]=new_value\n",
    "        else:\n",
    "            raise IndexError('Index out of range!')\n",
    "    def remove_at(self,index):\n",
    "        if 0<=index<len(self._elements):\n",
    "            self._elements.pop(index)\n",
    "        else:\n",
    "            raise IndexError('Index out of range!')\n",
    "    def __len__(self):\n",
    "        return len(self._elemnts)\n",
    "    def __str__(self):\n",
    "        return f'Динамический массив {self._elements}'\n",
    "    \n",
    "array=DynamicArray()\n",
    "array.appenda('a')\n",
    "array.appenda('b')\n",
    "array.appenda('c')\n",
    "print(array)\n",
    "\n",
    "array.get_element(1)\n",
    "print(f'Элемент по индексу: {array.get_element(2)}')\n",
    "\n",
    "array.set_element(1,'sus')\n",
    "print(f'Массив с новым элементом: {array}')\n",
    "\n",
    "array.remove_at(0)\n",
    "print(array)"
   ]
  },
  {
   "cell_type": "code",
   "execution_count": null,
   "id": "0b993cc5",
   "metadata": {},
   "outputs": [],
   "source": []
  }
 ],
 "metadata": {
  "kernelspec": {
   "display_name": "Python 3 (ipykernel)",
   "language": "python",
   "name": "python3"
  },
  "language_info": {
   "codemirror_mode": {
    "name": "ipython",
    "version": 3
   },
   "file_extension": ".py",
   "mimetype": "text/x-python",
   "name": "python",
   "nbconvert_exporter": "python",
   "pygments_lexer": "ipython3",
   "version": "3.11.4"
  }
 },
 "nbformat": 4,
 "nbformat_minor": 5
}

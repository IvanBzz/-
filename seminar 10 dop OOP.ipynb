{
 "cells": [
  {
   "cell_type": "code",
   "execution_count": 37,
   "id": "0d1ef282",
   "metadata": {},
   "outputs": [
    {
     "name": "stdout",
     "output_type": "stream",
     "text": [
      "Список студентов: ['Андрей', 'Иван', 'Николай']\n",
      "Николай\n",
      "Список студентов: ['Андрей', 'Иван', 'Петр']\n"
     ]
    },
    {
     "data": {
      "text/plain": [
       "'Петр'"
      ]
     },
     "execution_count": 37,
     "metadata": {},
     "output_type": "execute_result"
    }
   ],
   "source": [
    "#1\n",
    "class Student:\n",
    "    def __init__(self):\n",
    "        self._students=['Андрей','Иван',\"Николай\"]\n",
    "    def get_name(self,index):\n",
    "        if 0<=index<len(self._students):\n",
    "            return self._students[index]\n",
    "        else:\n",
    "            raise IndexError('Index out of range!')\n",
    "    def set_name(self,index,new_element):\n",
    "        if 0<=index<len(self._students):\n",
    "            self._students[index]=new_element\n",
    "        elif len(self._students)==index:\n",
    "            self._students.append(new_element)\n",
    "        else:\n",
    "            raise IndexError('Index out of range!')\n",
    "    def __str__(self):\n",
    "        return f'Список студентов: {self._students}'\n",
    "            \n",
    "students=Student()\n",
    "print(students)\n",
    "print(students.get_name(2))\n",
    "students.set_name(2,'Петр')\n",
    "print(students)\n",
    "students.get_name(2)"
   ]
  },
  {
   "cell_type": "code",
   "execution_count": 39,
   "id": "10c87d4b",
   "metadata": {},
   "outputs": [
    {
     "name": "stdout",
     "output_type": "stream",
     "text": [
      "Список цен: [170, 500, 300, 1000]\n",
      "300\n",
      "Список цен: [170, 500, 750, 1000]\n"
     ]
    },
    {
     "data": {
      "text/plain": [
       "750"
      ]
     },
     "execution_count": 39,
     "metadata": {},
     "output_type": "execute_result"
    }
   ],
   "source": [
    "#2\n",
    "class Tovar:\n",
    "    def __init__(self):\n",
    "        self._tovari=[170,500,300,1000]\n",
    "    def get_price(self,index):\n",
    "        if 0<=index<len(self._tovari):\n",
    "            return self._tovari[index]\n",
    "        else:\n",
    "            raise IndexError('Index out of range!')\n",
    "    def set_price(self,index,new_element):\n",
    "        if 0<=index<len(self._tovari):\n",
    "            self._tovari[index]=new_element\n",
    "        else:\n",
    "            raise IndexError('Index out of range!')\n",
    "    def __str__(self):\n",
    "        return f'Список цен: {self._tovari}'\n",
    "            \n",
    "tovari=Tovar()\n",
    "print(tovari)\n",
    "print(tovari.get_price(2))\n",
    "tovari.set_price(2,750)\n",
    "print(tovari)\n",
    "tovari.get_price(2)"
   ]
  },
  {
   "cell_type": "code",
   "execution_count": 47,
   "id": "b1089ca6",
   "metadata": {},
   "outputs": [],
   "source": [
    "#3\n",
    "from functools import reduce\n",
    "class Calculator (object):\n",
    "    def __init__ (self):\n",
    "        pass\n",
    "    def _sum(self, first, second):\n",
    "        return sum((first, second))\n",
    "    def _subtraction(self, first, second):\n",
    "        return first - second\n",
    "    def _multiply(self, first, second):\n",
    "        return first * second\n",
    "    def division(self, first, second):\n",
    "        if second != 0:\n",
    "            return round(first / second, 3)\n",
    "        else:\n",
    "            return 'its impossible to divide by zero'\n",
    "    def multiple_sum(self, *nums) :\n",
    "        return reduce(self._sum, *nums)\n",
    "    def multiple_subtraction(self, *nums):\n",
    "        return reduce(self._subtraction, *nums)\n",
    "    def multiple_division(self, *nums):\n",
    "        if 0 in nums[0:]:\n",
    "            return 'its impossible to divide by zero'\n",
    "        else:\n",
    "            return round (reduce(self. _division, *nums), 3)\n",
    "\n",
    "\n"
   ]
  },
  {
   "cell_type": "code",
   "execution_count": 50,
   "id": "32d79af6",
   "metadata": {},
   "outputs": [],
   "source": [
    "calculator = Calculator()"
   ]
  },
  {
   "cell_type": "code",
   "execution_count": 51,
   "id": "e93058da",
   "metadata": {},
   "outputs": [
    {
     "data": {
      "text/plain": [
       "11"
      ]
     },
     "execution_count": 51,
     "metadata": {},
     "output_type": "execute_result"
    }
   ],
   "source": [
    "calculator._sum(5, 6)"
   ]
  },
  {
   "cell_type": "code",
   "execution_count": 53,
   "id": "f1c8d79b",
   "metadata": {},
   "outputs": [
    {
     "data": {
      "text/plain": [
       "15"
      ]
     },
     "execution_count": 53,
     "metadata": {},
     "output_type": "execute_result"
    }
   ],
   "source": [
    "calculator.multiple_sum([1,2,3,4,5])"
   ]
  },
  {
   "cell_type": "code",
   "execution_count": 67,
   "id": "0982098e",
   "metadata": {},
   "outputs": [],
   "source": [
    "#4\n",
    "class Soda(object) :\n",
    "    def __init__(self, supplement) :\n",
    "        self.supplement = supplement\n",
    "    def show_my_drink(self):\n",
    "        if self. supplement:\n",
    "            return f'soda with {self.supplement}'\n",
    "        else:\n",
    "            return 'regular soda'\n"
   ]
  },
  {
   "cell_type": "code",
   "execution_count": 68,
   "id": "f906b67a",
   "metadata": {},
   "outputs": [],
   "source": [
    "soda = Soda ('')"
   ]
  },
  {
   "cell_type": "code",
   "execution_count": 69,
   "id": "fa0e7e44",
   "metadata": {},
   "outputs": [
    {
     "data": {
      "text/plain": [
       "'regular soda'"
      ]
     },
     "execution_count": 69,
     "metadata": {},
     "output_type": "execute_result"
    }
   ],
   "source": [
    "soda. show_my_drink()"
   ]
  },
  {
   "cell_type": "code",
   "execution_count": 70,
   "id": "fe2d17c5",
   "metadata": {},
   "outputs": [],
   "source": [
    "soda = Soda ('lime')"
   ]
  },
  {
   "cell_type": "code",
   "execution_count": 71,
   "id": "312b2a55",
   "metadata": {},
   "outputs": [
    {
     "data": {
      "text/plain": [
       "'soda with lime'"
      ]
     },
     "execution_count": 71,
     "metadata": {},
     "output_type": "execute_result"
    }
   ],
   "source": [
    "soda. show_my_drink()"
   ]
  },
  {
   "cell_type": "code",
   "execution_count": 77,
   "id": "8ca5f010",
   "metadata": {},
   "outputs": [
    {
     "name": "stdout",
     "output_type": "stream",
     "text": [
      "500\n"
     ]
    }
   ],
   "source": [
    "#6\n",
    "class KgToPounds:\n",
    "    def __init__(self,kg=None):\n",
    "        self.__kg=kg\n",
    "    def to_pounds(self):\n",
    "        return self.__kg*2.205\n",
    "    def set_kg(self,new_kg):\n",
    "        if isinstance(new_kg,(int,float)):\n",
    "            self.__kg=new_kg\n",
    "        else:\n",
    "            raise ValueError('Килограммы задаются только числами')\n",
    "    @property\n",
    "    def kg(self):\n",
    "        return self.__kg\n",
    "    def get_kg(self):\n",
    "        return self.__kg\n",
    "    \n",
    "    \n",
    "k=KgToPounds(500)\n",
    "print(k.kg)"
   ]
  },
  {
   "cell_type": "code",
   "execution_count": 79,
   "id": "e34b5c51",
   "metadata": {},
   "outputs": [
    {
     "name": "stdout",
     "output_type": "stream",
     "text": [
      "Я не Макс, а Николай\n"
     ]
    }
   ],
   "source": [
    "#7\n",
    "class Nikola:\n",
    "    __slots__=['name','age']\n",
    "    \n",
    "    def __init__(self,name,age):\n",
    "        self.age=age\n",
    "        self.name=name if name=='Николай' else f'Я не {name}, а Николай'\n",
    "        \n",
    "n= Nikola('Макс', 15)\n",
    "print(n.name)"
   ]
  },
  {
   "cell_type": "code",
   "execution_count": 80,
   "id": "04e91c6c",
   "metadata": {},
   "outputs": [
    {
     "name": "stdout",
     "output_type": "stream",
     "text": [
      "True\n",
      "True\n",
      "<function _ge_from_gt at 0x000001B28B889D00>\n",
      "<slot wrapper '__ne__' of 'object' objects>\n"
     ]
    }
   ],
   "source": [
    "#8\n",
    "from functools import total_ordering\n",
    "\n",
    "@total_ordering\n",
    "class RealString:\n",
    "    def __init__(self,value):\n",
    "        self.value=value\n",
    "        \n",
    "    def __eq__(self,other):\n",
    "        if isinnstance(other,str):\n",
    "            other=RealString(other)\n",
    "        return len(self.value)==len(other.value)\n",
    "    def __gt__(self,other):\n",
    "        if isinstance(other,str):\n",
    "            other=RealString(other)\n",
    "        return len(self.value)>len(other.value)\n",
    "    \n",
    "s1=RealString('hjfsjks')\n",
    "s2=RealString('1234')\n",
    "print(s1>s2)\n",
    "print('12'<s1)\n",
    "print(RealString.__ge__)\n",
    "print(RealString.__ne__)"
   ]
  }
 ],
 "metadata": {
  "kernelspec": {
   "display_name": "Python 3 (ipykernel)",
   "language": "python",
   "name": "python3"
  },
  "language_info": {
   "codemirror_mode": {
    "name": "ipython",
    "version": 3
   },
   "file_extension": ".py",
   "mimetype": "text/x-python",
   "name": "python",
   "nbconvert_exporter": "python",
   "pygments_lexer": "ipython3",
   "version": "3.11.4"
  }
 },
 "nbformat": 4,
 "nbformat_minor": 5
}

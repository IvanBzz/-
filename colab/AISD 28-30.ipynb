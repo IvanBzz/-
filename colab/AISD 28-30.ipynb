{
 "cells": [
  {
   "cell_type": "markdown",
   "id": "eb289b90",
   "metadata": {},
   "source": [
    "# 28 задача"
   ]
  },
  {
   "cell_type": "markdown",
   "id": "82a4a631",
   "metadata": {},
   "source": [
    "а) Используя лямбда-функцию, отсортировать список словарей. Пример: [{'make': 'Nokia', 'model': 216, 'color': 'Black'}, {'make': 'Mi Max', 'model': '2', 'color': 'Gold'}, {'make': 'Samsung', 'model': 7, 'color': 'Blue'}] → [{'make': 'Nokia', 'model': 216, 'color': 'Black'}, {'make': 'Samsung', 'model': 7, 'color': 'Blue'}, {'make': 'Mi Max', 'model': '2', 'color': 'Gold'}]."
   ]
  },
  {
   "cell_type": "code",
   "execution_count": 11,
   "id": "a8058dd5",
   "metadata": {},
   "outputs": [
    {
     "name": "stdout",
     "output_type": "stream",
     "text": [
      "[{'make': 'Nokia', 'model': 216, 'color': 'Black'}, {'make': 'Samsung', 'model': 7, 'color': 'Blue'}, {'make': 'Mi Max', 'model': '2', 'color': 'Gold'}]\n"
     ]
    }
   ],
   "source": [
    "data = [{'make': 'Nokia', 'model': 216, 'color': 'Black'}, {'make': 'Mi Max', 'model': '2', 'color': 'Gold'}, {'make': 'Samsung', 'model': 7, 'color': 'Blue'}]\n",
    "\n",
    "sorted_data = sorted(data, key=lambda x: (x['color'],x['make'],int(x['model'])))\n",
    "print(sorted_data)"
   ]
  },
  {
   "cell_type": "markdown",
   "id": "3a839cf8",
   "metadata": {},
   "source": [
    "б) Найти все анаграммы в заданном списке строк с помощью лямбда- функции. Пример: 'abcd', ['bcda', 'abce', 'cbda', 'cbea', 'adcb'] → ['bcda', 'cbda', 'adcb']."
   ]
  },
  {
   "cell_type": "code",
   "execution_count": 6,
   "id": "2c57724c",
   "metadata": {},
   "outputs": [
    {
     "name": "stdout",
     "output_type": "stream",
     "text": [
      "['bcda', 'cbda', 'adcb']\n"
     ]
    }
   ],
   "source": [
    "word = 'abcd'\n",
    "words = ['bcda', 'abce', 'cbda', 'cbea', 'adcb']\n",
    "\n",
    "anagrams = list(filter(lambda x: sorted(x) == sorted(word), words))\n",
    "print(anagrams)"
   ]
  },
  {
   "cell_type": "markdown",
   "id": "d394d2fe",
   "metadata": {},
   "source": [
    "в) Напишите программу для сортировки заданного смешанного списка целых чисел и строк с помощью лямбда-функции. Числа должны быть отсортированы перед строками. Пример: [19, 'red', 12, 'green', 'blue', 10, 'white', 'green', 1] → [1, 10, 12, 19, 'blue', 'green', 'green', 'red', 'white']."
   ]
  },
  {
   "cell_type": "code",
   "execution_count": 12,
   "id": "47d167f9",
   "metadata": {},
   "outputs": [
    {
     "name": "stdout",
     "output_type": "stream",
     "text": [
      "['blue', 'green', 'green', 'red', 'white', 1, 10, 12, 19]\n"
     ]
    }
   ],
   "source": [
    "data = [19, 'red', 12, 'green', 'blue', 10, 'white', 'green', 1]\n",
    "\n",
    "sorted_data = sorted(data, key=lambda x: (type(x) == int, x))\n",
    "print(sorted_data)"
   ]
  },
  {
   "cell_type": "markdown",
   "id": "084cd6fd",
   "metadata": {},
   "source": [
    "# 29 задача "
   ]
  },
  {
   "cell_type": "markdown",
   "id": "319f4eaa",
   "metadata": {},
   "source": [
    "а) Сложите два заданных списка и найдите разницу между ними, используя функцию map(). Пример: [6, 5, 3, 9], [0, 1, 7, 7] → [(6, 6), (6, 4), (10, –4), (16, 2)]."
   ]
  },
  {
   "cell_type": "code",
   "execution_count": 15,
   "id": "8584ac53",
   "metadata": {},
   "outputs": [
    {
     "name": "stdout",
     "output_type": "stream",
     "text": [
      "[(6, 6), (5, 4), (3, -4), (9, 2)]\n"
     ]
    }
   ],
   "source": [
    "lst1 = [6, 5, 3, 9]\n",
    "lst2 = [0, 1, 7, 7]\n",
    "\n",
    "diff_lst = list(map(lambda x, y: (x, x - y), lst1, lst2))\n",
    "print(diff_lst)"
   ]
  },
  {
   "cell_type": "markdown",
   "id": "60110035",
   "metadata": {},
   "source": [
    "б) Сгенерировать список целых чисел. С помощью функции filter() выбрать из списка все четные числа и упорядочить их по возрастанию. Используя функцию reduce(), найти их сумму."
   ]
  },
  {
   "cell_type": "code",
   "execution_count": 19,
   "id": "f371fd79",
   "metadata": {},
   "outputs": [
    {
     "name": "stdout",
     "output_type": "stream",
     "text": [
      "[2, 4, 6, 8, 10]\n",
      "30\n"
     ]
    }
   ],
   "source": [
    "from functools import reduce\n",
    "\n",
    "lst = [1, 2, 3, 4, 5, 6, 7, 8, 9, 10]\n",
    "\n",
    "even_lst = list(filter(lambda x: x % 2 == 0, lst))\n",
    "sum_even_lst = reduce(lambda x, y: x + y, even_lst)\n",
    "\n",
    "print(even_lst)\n",
    "print(sum_even_lst)"
   ]
  },
  {
   "cell_type": "markdown",
   "id": "b0a3ec56",
   "metadata": {},
   "source": [
    "# 30 задача"
   ]
  },
  {
   "cell_type": "markdown",
   "id": "58fa8bb0",
   "metadata": {},
   "source": [
    "а) Создайте декоратор, который будет выводить на экран имя функции и модуль, где она определена."
   ]
  },
  {
   "cell_type": "code",
   "execution_count": 22,
   "id": "2530a5c3",
   "metadata": {},
   "outputs": [
    {
     "name": "stdout",
     "output_type": "stream",
     "text": [
      "Function 'test_func' in module '__main__' called\n"
     ]
    }
   ],
   "source": [
    "import functools\n",
    "\n",
    "def print_function_info(func):\n",
    "    @functools.wraps(func)  # Сохраняем данные функции\n",
    "    def wrapper(*args, **kwargs):\n",
    "        module = func.__module__  # Получаем имя модуля\n",
    "        name = func.__name__  # Получаем имя функции\n",
    "        print(f\"Function '{name}' in module '{module}' called\")  # Выводим информацию о вызове функции\n",
    "        return func(*args, **kwargs)  # Вызываем исходную функцию с переданными аргументами\n",
    "    return wrapper\n",
    "\n",
    "@print_function_info\n",
    "def test_func():\n",
    "    pass\n",
    "\n",
    "test_func()  # Вызываем функцию для демонстрации работы декоратора\n"
   ]
  },
  {
   "cell_type": "markdown",
   "id": "e7382345",
   "metadata": {},
   "source": [
    "б) Создайте декоратор, который будет принимать несколько аргументов и передавать их в функцию в качестве ключевых параметров с заданными значениями по умолчанию."
   ]
  },
  {
   "cell_type": "code",
   "execution_count": 25,
   "id": "49e31b28",
   "metadata": {},
   "outputs": [
    {
     "name": "stdout",
     "output_type": "stream",
     "text": [
      "6\n"
     ]
    }
   ],
   "source": [
    "def add_defaults(**kwargs):\n",
    "    def decorator(func):\n",
    "        def wrapper(*args, **kwargs2):\n",
    "            combined_kwargs = {**kwargs, **kwargs2}  # Объединяем переданные и значения по умолчанию\n",
    "            return func(**combined_kwargs)  # Вызываем функцию с объединенными параметрами\n",
    "        return wrapper\n",
    "    return decorator\n",
    "\n",
    "@add_defaults(a=1, b=2)\n",
    "def test_func(a, b, c):\n",
    "    return a + b + c\n",
    "\n",
    "print(test_func(c=3))  # Вызываем функцию для демонстрации работы декоратора\n"
   ]
  }
 ],
 "metadata": {
  "kernelspec": {
   "display_name": "Python 3 (ipykernel)",
   "language": "python",
   "name": "python3"
  },
  "language_info": {
   "codemirror_mode": {
    "name": "ipython",
    "version": 3
   },
   "file_extension": ".py",
   "mimetype": "text/x-python",
   "name": "python",
   "nbconvert_exporter": "python",
   "pygments_lexer": "ipython3",
   "version": "3.11.4"
  }
 },
 "nbformat": 4,
 "nbformat_minor": 5
}

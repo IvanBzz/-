{
 "cells": [
  {
   "cell_type": "code",
   "execution_count": 24,
   "id": "9e5449dc",
   "metadata": {},
   "outputs": [
    {
     "name": "stdout",
     "output_type": "stream",
     "text": [
      "2\n"
     ]
    }
   ],
   "source": [
    "#2\n",
    "def func(list1, dict1):\n",
    "   k = 0\n",
    "   for i in list1:\n",
    "       if i in dict1:\n",
    "           k += 1\n",
    "   return k\n",
    "\n",
    "l1 = [1, 2, 3, 4, 5]\n",
    "d1 = {1: 5, 2: 20, 7: 30}\n",
    "print(func(l1, d1))  "
   ]
  },
  {
   "cell_type": "code",
   "execution_count": 23,
   "id": "2491f37c",
   "metadata": {},
   "outputs": [
    {
     "name": "stdout",
     "output_type": "stream",
     "text": [
      "abcdef\n",
      "{'a': 1, 'b': 2, 'c': 3, 'd': 4, 'e': 5, 'f': 6}\n"
     ]
    }
   ],
   "source": [
    "#1\n",
    "while True:\n",
    "    stroka=input()\n",
    "    dict1={}\n",
    "    if len(stroka)==len(set(stroka)):\n",
    "        for i in range(len(stroka)):\n",
    "            dict1[stroka[i]]=i+1\n",
    "            #dict1[i]=stroka[i]\n",
    "        print(dict1)\n",
    "        break\n",
    "    else:\n",
    "        print('введите другую строку')\n",
    "        continue"
   ]
  }
 ],
 "metadata": {
  "kernelspec": {
   "display_name": "Python 3 (ipykernel)",
   "language": "python",
   "name": "python3"
  },
  "language_info": {
   "codemirror_mode": {
    "name": "ipython",
    "version": 3
   },
   "file_extension": ".py",
   "mimetype": "text/x-python",
   "name": "python",
   "nbconvert_exporter": "python",
   "pygments_lexer": "ipython3",
   "version": "3.11.4"
  }
 },
 "nbformat": 4,
 "nbformat_minor": 5
}
